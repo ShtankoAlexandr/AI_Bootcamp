{
 "cells": [
  {
   "cell_type": "code",
   "execution_count": 24,
   "id": "cf0d0fbd-b093-4cf6-a28a-468f67e26862",
   "metadata": {},
   "outputs": [],
   "source": [
    "import pandas as pd\n",
    "import numpy as np\n"
   ]
  },
  {
   "cell_type": "code",
   "execution_count": null,
   "id": "7af44a6e-c176-46a8-8219-a22b9cdd0880",
   "metadata": {},
   "outputs": [
    {
     "name": "stdout",
     "output_type": "stream",
     "text": [
      "<class 'pandas.core.series.Series'>\n",
      "<class 'pandas.core.series.Series'>\n",
      "<class 'pandas.core.series.Series'>\n",
      "\n",
      "<class 'str'>\n",
      "<class 'list'>\n",
      "<class 'numpy.float64'>\n"
     ]
    }
   ],
   "source": [
    "\n",
    "# Method 1: Create DataFrame from a NumPy array\n",
    "data_numpy = np.array([\n",
    "    [1, 'Blue', [1, 2], 1.1],\n",
    "    [3, 'Red', [3, 4], 2.2],\n",
    "    [5, 'Pink', [5, 6], 3.3],\n",
    "    [7, 'Grey', [7, 8], 4.4],\n",
    "    [9, 'Black', [9, 10], 5.5]\n",
    "], dtype=object)\n",
    "\n",
    "df_from_numpy = pd.DataFrame(data_numpy, columns=[\"color\", \"list\", \"number\", \"float\"])\n",
    "\n",
    "# Method 2: Create DataFrame from Pandas Series\n",
    "series_data = {\n",
    "    \"color\": pd.Series([\"Blue\", \"Red\", \"Pink\", \"Grey\", \"Black\"]),\n",
    "    \"list\": pd.Series([[1, 2], [3, 4], [5, 6], [7, 8], [9, 10]]),\n",
    "    \"number\": pd.Series([1.1, 2.2, 3.3, 4.4, 5.5])\n",
    "}\n",
    "\n",
    "df_from_series = pd.DataFrame(series_data)\n",
    "\n",
    "\n",
    "\n",
    "# Printing the types of the first value in each column\n",
    "print(type(df_from_series[\"color\"].iloc[0]))  # <class 'str'>\n",
    "print(type(df_from_series[\"list\"].iloc[0]))   # <class 'list'>\n",
    "print(type(df_from_series[\"number\"].iloc[0])) # <class 'float'>\n"
   ]
  },
  {
   "cell_type": "code",
   "execution_count": 26,
   "id": "9cb51ac7-95e5-4ec7-bdd2-624cc6dc7455",
   "metadata": {},
   "outputs": [],
   "source": [
    "#1\n",
    "import pandas as pd\n",
    "# Load the dataset\n",
    "URL = 'https://assets.01-edu.org/ai-branch/piscine-ai/household_power_consumption.txt'\n",
    "df = pd.read_csv(URL, sep=';', low_memory=False)\n",
    "# 1. Delete specified columns\n",
    "df.drop(['Time', 'Sub_metering_2', 'Sub_metering_3'], axis=1, inplace=True)\n",
    "\n"
   ]
  },
  {
   "cell_type": "code",
   "execution_count": 27,
   "id": "4aae8b48",
   "metadata": {},
   "outputs": [
    {
     "data": {
      "text/plain": [
       "DatetimeIndex(['2006-12-16', '2006-12-16', '2006-12-16', '2006-12-16',\n",
       "               '2006-12-16'],\n",
       "              dtype='datetime64[ns]', name='Date', freq=None)"
      ]
     },
     "execution_count": 27,
     "metadata": {},
     "output_type": "execute_result"
    }
   ],
   "source": [
    "# 2. Set Date as datetime index\n",
    "df['Date'] = pd.to_datetime(df['Date'], format='%d/%m/%Y')\n",
    "df.set_index('Date', inplace=True)\n",
    "df.head().index\n"
   ]
  },
  {
   "cell_type": "code",
   "execution_count": 28,
   "id": "4d56f591",
   "metadata": {},
   "outputs": [
    {
     "data": {
      "text/plain": [
       "Global_active_power      float64\n",
       "Global_reactive_power    float64\n",
       "Voltage                  float64\n",
       "Global_intensity         float64\n",
       "Sub_metering_1           float64\n",
       "dtype: object"
      ]
     },
     "execution_count": 28,
     "metadata": {},
     "output_type": "execute_result"
    }
   ],
   "source": [
    "# 3. Function to update column types\n",
    "def update_types(df):\n",
    "    for col in df.columns:\n",
    "        df[col] = pd.to_numeric(df[col], errors='coerce')\n",
    "    return df\n",
    "df = update_types(df)\n",
    "df.dtypes\n"
   ]
  },
  {
   "cell_type": "code",
   "execution_count": null,
   "id": "91681240",
   "metadata": {},
   "outputs": [
    {
     "data": {
      "text/plain": [
       "<bound method DataFrame.round of        Global_active_power  Global_reactive_power       Voltage  \\\n",
       "count         2.049280e+06           2.049280e+06  2.049280e+06   \n",
       "mean          1.091615e+00           1.237145e-01  2.408399e+02   \n",
       "std           1.057294e+00           1.127220e-01  3.239987e+00   \n",
       "min           7.600000e-02           0.000000e+00  2.232000e+02   \n",
       "25%           3.080000e-01           4.800000e-02  2.389900e+02   \n",
       "50%           6.020000e-01           1.000000e-01  2.410100e+02   \n",
       "75%           1.528000e+00           1.940000e-01  2.428900e+02   \n",
       "max           1.112200e+01           1.390000e+00  2.541500e+02   \n",
       "\n",
       "       Global_intensity  Sub_metering_1  \n",
       "count      2.049280e+06    2.049280e+06  \n",
       "mean       4.627759e+00    1.121923e+00  \n",
       "std        4.444396e+00    6.153031e+00  \n",
       "min        2.000000e-01    0.000000e+00  \n",
       "25%        1.400000e+00    0.000000e+00  \n",
       "50%        2.600000e+00    0.000000e+00  \n",
       "75%        6.400000e+00    0.000000e+00  \n",
       "max        4.840000e+01    8.800000e+01  >"
      ]
     },
     "execution_count": 30,
     "metadata": {},
     "output_type": "execute_result"
    }
   ],
   "source": [
    "# 4 Use describe to have an overview on the data set\n",
    "df.describe()"
   ]
  },
  {
   "cell_type": "code",
   "execution_count": 31,
   "id": "4d0c23a1-8cb5-427c-a229-d6a934b345bb",
   "metadata": {},
   "outputs": [
    {
     "data": {
      "text/plain": [
       "Global_active_power      0\n",
       "Global_reactive_power    0\n",
       "Voltage                  0\n",
       "Global_intensity         0\n",
       "Sub_metering_1           0\n",
       "dtype: int64"
      ]
     },
     "execution_count": 31,
     "metadata": {},
     "output_type": "execute_result"
    }
   ],
   "source": [
    "# 5. Remove rows with missing values\n",
    "df.dropna(inplace=True)\n",
    "df.isna().sum()\n"
   ]
  },
  {
   "cell_type": "code",
   "execution_count": 32,
   "id": "1437dce4-55bf-43f9-a393-3d9638f87822",
   "metadata": {},
   "outputs": [],
   "source": [
    "# 6. Modify Sub_metering_1\n",
    "df.loc[:, 'Sub_metering_1'] = (df['Sub_metering_1'] + 1) * 0.06\n"
   ]
  },
  {
   "cell_type": "code",
   "execution_count": 33,
   "id": "dcff35f4-a25f-4119-a630-69b85763f50e",
   "metadata": {},
   "outputs": [
    {
     "name": "stdout",
     "output_type": "stream",
     "text": [
      "| Date                |   Global_active_power |   Global_reactive_power |   Voltage |   Global_intensity |   Sub_metering_1 |\n",
      "|:--------------------|----------------------:|------------------------:|----------:|-------------------:|-----------------:|\n",
      "| 2008-12-27 00:00:00 |                 0.996 |                   0.066 |    244.81 |                4   |             0.06 |\n",
      "| 2008-12-27 00:00:00 |                 1.076 |                   0.162 |    244.78 |                4.4 |             0.06 |\n",
      "| 2008-12-27 00:00:00 |                 1.064 |                   0.172 |    244.74 |                4.4 |             0.06 |\n",
      "| 2008-12-27 00:00:00 |                 1.07  |                   0.174 |    245.28 |                4.4 |             0.06 |\n",
      "| 2008-12-27 00:00:00 |                 0.804 |                   0.184 |    246.3  |                3.4 |             0.06 |\n"
     ]
    }
   ],
   "source": [
    "# 7. Filter rows based on Date and Voltage\n",
    "filtered_df = df[(df.index >= '2008-12-27') & (df['Voltage'] >= 242)]\n",
    "print(filtered_df.head().to_markdown())"
   ]
  },
  {
   "cell_type": "code",
   "execution_count": 34,
   "id": "5382e8f8",
   "metadata": {},
   "outputs": [
    {
     "name": "stdout",
     "output_type": "stream",
     "text": [
      "88888th row:\n",
      "Global_active_power        0.254\n",
      "Global_reactive_power      0.000\n",
      "Voltage                  238.100\n",
      "Global_intensity           1.200\n",
      "Sub_metering_1             0.060\n",
      "Name: 2007-02-16 00:00:00, dtype: float64\n"
     ]
    }
   ],
   "source": [
    "# 8. Print the 88888th row\n",
    "print(\"88888th row:\")\n",
    "print(df.iloc[88887])"
   ]
  },
  {
   "cell_type": "code",
   "execution_count": 35,
   "id": "98779b5e-9b91-4edd-94ea-36c2ae51666a",
   "metadata": {},
   "outputs": [
    {
     "name": "stdout",
     "output_type": "stream",
     "text": [
      "\n",
      "Date with max Global_active_power: 2009-02-22 00:00:00\n"
     ]
    }
   ],
   "source": [
    "# 9. Date with maximum Global_active_power\n",
    "max_date = df['Global_active_power'].idxmax()\n",
    "print(\"\\nDate with max Global_active_power:\", max_date)"
   ]
  },
  {
   "cell_type": "code",
   "execution_count": 26,
   "id": "ff83d285-9120-4ef1-94c8-dd14d026f0e4",
   "metadata": {},
   "outputs": [
    {
     "name": "stdout",
     "output_type": "stream",
     "text": [
      "| Date                |   Global_active_power |   Global_reactive_power |   Voltage |   Global_intensity |   Sub_metering_1 |\n",
      "|:--------------------|----------------------:|------------------------:|----------:|-------------------:|-----------------:|\n",
      "| 2008-08-28 00:00:00 |                 0.076 |                       0 |    234.88 |                0.2 |             0.06 |\n",
      "| 2008-08-28 00:00:00 |                 0.076 |                       0 |    235.18 |                0.2 |             0.06 |\n",
      "| 2008-08-28 00:00:00 |                 0.076 |                       0 |    235.4  |                0.2 |             0.06 |\n",
      "| 2008-08-28 00:00:00 |                 0.076 |                       0 |    235.64 |                0.2 |             0.06 |\n",
      "| 2008-08-12 00:00:00 |                 0.076 |                       0 |    236.5  |                0.2 |             0.06 |\n"
     ]
    }
   ],
   "source": [
    "# 10. Sort by Global_active_power (descending) and Voltage (ascending)\n",
    "sorted_df = df.sort_values(by=['Global_active_power', 'Voltage'], ascending=[False, True])\n",
    "print(sorted_df.tail().to_markdown())"
   ]
  },
  {
   "cell_type": "code",
   "execution_count": 36,
   "id": "d91a200c-394a-40b8-baeb-fea75898d482",
   "metadata": {},
   "outputs": [
    {
     "name": "stdout",
     "output_type": "stream",
     "text": [
      "\n",
      "Daily average of Global_active_power:\n",
      "Date\n",
      "2006-12-16    3.053475\n",
      "2006-12-17    2.354486\n",
      "2006-12-18    1.530435\n",
      "2006-12-19    1.157079\n",
      "2006-12-20    1.545658\n",
      "                ...   \n",
      "2010-11-22    1.417733\n",
      "2010-11-23    1.095511\n",
      "2010-11-24    1.247394\n",
      "2010-11-25    0.993864\n",
      "2010-11-26    1.178230\n",
      "Freq: D, Name: Global_active_power, Length: 1442, dtype: float64\n"
     ]
    }
   ],
   "source": [
    "\n",
    "# 11. Compute daily average of Global_active_power\n",
    "daily_avg = df.resample('D')['Global_active_power'].mean()\n",
    "print(\"\\nDaily average of Global_active_power:\")\n",
    "print(daily_avg)"
   ]
  },
  {
   "cell_type": "markdown",
   "id": "a0e23367-83ff-4260-bd17-5e3ec4198429",
   "metadata": {},
   "source": [
    "# Exercise 3: E-commerce purchases"
   ]
  },
  {
   "cell_type": "code",
   "execution_count": 38,
   "id": "2c5c51c5-eb48-4404-9962-f3065c5276dc",
   "metadata": {},
   "outputs": [],
   "source": [
    "#1\n",
    "df = pd.read_csv('Ecommerce_purchases.txt', sep=',', on_bad_lines='skip')\n"
   ]
  },
  {
   "cell_type": "code",
   "execution_count": 39,
   "id": "ed6279bd-66b3-4df1-9293-ee514f6e260b",
   "metadata": {},
   "outputs": [
    {
     "name": "stdout",
     "output_type": "stream",
     "text": [
      "1. Rows and Columns: (10000, 14)\n",
      "\n",
      "2. Average Purchase Price: 50.347302\n",
      "\n",
      "3. Max Price: 99.99\n",
      "   Min Price: 0.0\n",
      "\n",
      "4. English Speakers: 1098\n",
      "\n",
      "5. Lawyers: 30\n",
      "\n",
      "6. AM/PM Purchases:\n",
      "AM or PM\n",
      "PM    5068\n",
      "AM    4932\n",
      "Name: count, dtype: int64\n",
      "\n",
      "7. Top 5 Jobs:\n",
      "Job\n",
      "Interior and spatial designer        31\n",
      "Lawyer                               30\n",
      "Social researcher                    28\n",
      "Research officer, political party    27\n",
      "Designer, jewellery                  27\n",
      "Name: count, dtype: int64\n",
      "\n",
      "8. Purchase Price for Lot '90 WT': 75.1\n",
      "\n",
      "9. Email for CC 4926535242672853: bondellen@williams-garza.com\n",
      "\n",
      "10. Amex > $95: 39\n",
      "\n",
      "11. Cards expiring in 2025: 1033\n",
      "\n",
      "12. Top 5 Email Domains:\n",
      "Email Domain\n",
      "hotmail.com     1638\n",
      "yahoo.com       1616\n",
      "gmail.com       1605\n",
      "smith.com         42\n",
      "williams.com      37\n",
      "Name: count, dtype: int64\n"
     ]
    }
   ],
   "source": [
    "\n",
    "\n",
    "\n",
    "print(\"1. Rows and Columns:\", df.shape)\n",
    "\n",
    "\n",
    "print(\"\\n2. Average Purchase Price:\", df['Purchase Price'].mean())\n",
    "\n",
    "print(\"\\n3. Max Price:\", df['Purchase Price'].max())\n",
    "print(\"   Min Price:\", df['Purchase Price'].min())\n",
    "\n",
    "print(\"\\n4. English Speakers:\", df[df['Language'] == 'en'].shape[0])\n",
    "\n",
    "print(\"\\n5. Lawyers:\", df[df['Job'] == 'Lawyer'].shape[0])\n",
    "\n",
    "\n",
    "print(\"\\n6. AM/PM Purchases:\")\n",
    "print(df['AM or PM'].value_counts())\n",
    "\n",
    "print(\"\\n7. Top 5 Jobs:\")\n",
    "print(df['Job'].value_counts().head(5))\n",
    "\n",
    "lot_price = df[df['Lot'] == '90 WT']['Purchase Price'].values[0]\n",
    "print(\"\\n8. Purchase Price for Lot '90 WT':\", lot_price)\n",
    "\n",
    "\n",
    "cc_email = df[df['Credit Card'] == 4926535242672853]['Email'].values[0]\n",
    "print(\"\\n9. Email for CC 4926535242672853:\", cc_email)\n",
    "\n",
    "\n",
    "amex_95 = df[(df['CC Provider'] == 'American Express') & (df['Purchase Price'] > 95)].shape[0]\n",
    "print(\"\\n10. Amex > $95:\", amex_95)\n",
    "\n",
    "\n",
    "exp_2025 = df[df['CC Exp Date'].apply(lambda x: x.split('/')[1] == '25')].shape[0]\n",
    "print(\"\\n11. Cards expiring in 2025:\", exp_2025)\n",
    "\n",
    "\n",
    "df['Email Domain'] = df['Email'].str.split('@').str[1]\n",
    "print(\"\\n12. Top 5 Email Domains:\")\n",
    "print(df['Email Domain'].value_counts().head(5))"
   ]
  },
  {
   "cell_type": "markdown",
   "id": "83bb6244-adb7-435f-b15a-491b06a0aba8",
   "metadata": {},
   "source": [
    "# Task 4"
   ]
  },
  {
   "cell_type": "code",
   "execution_count": 94,
   "id": "237e57ce-848d-45dd-8d83-9f050ec2f9c7",
   "metadata": {},
   "outputs": [
    {
     "name": "stdout",
     "output_type": "stream",
     "text": [
      "Пропуски после заполнения:\n",
      "sepal_length    0\n",
      "sepal_width     0\n",
      "petal_length    0\n",
      "petal_width     0\n",
      "dtype: int64\n",
      "\n",
      "Статистика данных:\n",
      "       sepal_length  sepal_width  petal_length  petal_width\n",
      "count    150.000000   150.000000    150.000000   150.000000\n",
      "mean      56.907534    49.648000     12.423333    11.786000\n",
      "std      564.489133   404.506037    114.078057   130.550042\n",
      "min       -4.400000    -3.600000     -4.800000    -2.500000\n",
      "25%        5.100000     2.800000      1.300000     0.225000\n",
      "50%        5.800000     3.000000      4.000000     1.300000\n",
      "75%        6.500000     3.300000      4.975000     1.800000\n",
      "max     6900.000000  3809.000000   1400.000000  1600.000000\n",
      "\n",
      "Строка 122:\n",
      "sepal_length    56.907534\n",
      "sepal_width      3.000000\n",
      "petal_length     0.000000\n",
      "petal_width      0.000000\n",
      "Name: 122, dtype: float64\n"
     ]
    }
   ],
   "source": [
    "import pandas as pd\n",
    "\n",
    "# Загрузка данных\n",
    "df = pd.read_csv(\"iris.txt\")\n",
    "\n",
    "# 1. Удаление столбца 'flower'\n",
    "df = df.drop(columns=[\"flower\"])\n",
    "\n",
    "# 2. Конвертация колонок в числовой формат (float)\n",
    "numeric_cols = [\"sepal_length\", \"sepal_width\", \"petal_length\", \"petal_width\"]\n",
    "for col in numeric_cols:\n",
    "    df[col] = pd.to_numeric(df[col], errors=\"coerce\")\n",
    "\n",
    "# 3. Заполнение пропусков по стратегиям\n",
    "df = df.fillna({\n",
    "    \"sepal_length\": df[\"sepal_length\"].mean(),  # Среднее\n",
    "    \"sepal_width\": df[\"sepal_width\"].median(),  # Медиана\n",
    "    \"petal_length\": 0,                         # Ноль\n",
    "    \"petal_width\": 0                           # Ноль\n",
    "})\n",
    "\n",
    "\n",
    "print(\"Пропуски после заполнения:\")\n",
    "print(df.isnull().sum())\n",
    "\n",
    "\n",
    "print(\"\\nСтатистика данных:\")\n",
    "print(df.describe())\n",
    "\n",
    "print(\"\\nСтрока 122:\")\n",
    "print(df.loc[122])"
   ]
  }
 ],
 "metadata": {
  "kernelspec": {
   "display_name": "ex00",
   "language": "python",
   "name": "python3"
  },
  "language_info": {
   "codemirror_mode": {
    "name": "ipython",
    "version": 3
   },
   "file_extension": ".py",
   "mimetype": "text/x-python",
   "name": "python",
   "nbconvert_exporter": "python",
   "pygments_lexer": "ipython3",
   "version": "3.12.1"
  }
 },
 "nbformat": 4,
 "nbformat_minor": 5
}
