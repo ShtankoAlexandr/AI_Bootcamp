{
 "cells": [
  {
   "cell_type": "markdown",
   "metadata": {},
   "source": [
    "# H1 TITLE\n",
    "## H2 TITLE"
   ]
  },
  {
   "cell_type": "code",
   "execution_count": 116,
   "metadata": {},
   "outputs": [
    {
     "name": "stdout",
     "output_type": "stream",
     "text": [
      "Buy the dip ?\n"
     ]
    }
   ],
   "source": [
    "print(\"Buy the dip ?\")"
   ]
  },
  {
   "cell_type": "code",
   "execution_count": null,
   "metadata": {},
   "outputs": [],
   "source": [
    "import numpy as np \n"
   ]
  },
  {
   "cell_type": "markdown",
   "metadata": {},
   "source": [
    "#Exercise 1: Your first NumPy array"
   ]
  },
  {
   "cell_type": "code",
   "execution_count": null,
   "metadata": {},
   "outputs": [
    {
     "name": "stdout",
     "output_type": "stream",
     "text": [
      "<class 'numpy.ndarray'>\n",
      "<class 'int'>\n",
      "<class 'float'>\n",
      "<class 'str'>\n",
      "<class 'dict'>\n",
      "<class 'list'>\n",
      "<class 'tuple'>\n",
      "<class 'set'>\n",
      "<class 'bool'>\n"
     ]
    }
   ],
   "source": [
    "mixed_array=np.array([1, #integer\n",
    "                      2.34, #float\n",
    "                      \"Alex\", #String\n",
    "                      {\"key\":\"value\"}, #dictionary\n",
    "                      [\"apple\",\"banana\",\"raspberry\"], # list\n",
    "                      (1,\"hello\"),# tuple\n",
    "                      {\"apple\",\"banana\", \"raspberry\"}, # a set\n",
    "                      True], dtype=object)\n",
    "\n",
    "\n",
    "\n",
    "\n",
    "print(type(mixed_array)) \n",
    "\n",
    "for i in mixed_array:\n",
    "  print(type(i))  \n",
    "\n",
    "              \n",
    "                                                    "
   ]
  },
  {
   "cell_type": "code",
   "execution_count": 119,
   "metadata": {},
   "outputs": [
    {
     "name": "stdout",
     "output_type": "stream",
     "text": [
      "[0 0 0 0 0 0 0 0 0 0 0 0 0 0 0 0 0 0 0 0 0 0 0 0 0 0 0 0 0 0 0 0 0 0 0 0 0\n",
      " 0 0 0 0 0 0 0 0 0 0 0 0 0 0 0 0 0 0 0 0 0 0 0 0 0 0 0 0 0 0 0 0 0 0 0 0 0\n",
      " 0 0 0 0 0 0 0 0 0 0 0 0 0 0 0 0 0 0 0 0 0 0 0 0 0 0 0 0 0 0 0 0 0 0 0 0 0\n",
      " 0 0 0 0 0 0 0 0 0 0 0 0 0 0 0 0 0 0 0 0 0 0 0 0 0 0 0 0 0 0 0 0 0 0 0 0 0\n",
      " 0 0 0 0 0 0 0 0 0 0 0 0 0 0 0 0 0 0 0 0 0 0 0 0 0 0 0 0 0 0 0 0 0 0 0 0 0\n",
      " 0 0 0 0 0 0 0 0 0 0 0 0 0 0 0 0 0 0 0 0 0 0 0 0 0 0 0 0 0 0 0 0 0 0 0 0 0\n",
      " 0 0 0 0 0 0 0 0 0 0 0 0 0 0 0 0 0 0 0 0 0 0 0 0 0 0 0 0 0 0 0 0 0 0 0 0 0\n",
      " 0 0 0 0 0 0 0 0 0 0 0 0 0 0 0 0 0 0 0 0 0 0 0 0 0 0 0 0 0 0 0 0 0 0 0 0 0\n",
      " 0 0 0 0]\n",
      "300\n"
     ]
    }
   ],
   "source": [
    "#Exercise 2: Zeros\n",
    "#The question 1 \n",
    "zero_array = np.zeros(300,dtype=int)\n",
    "print(zero_array)\n",
    "\n",
    "count=len(zero_array)\n",
    "print(count)\n"
   ]
  },
  {
   "cell_type": "code",
   "execution_count": 120,
   "metadata": {},
   "outputs": [
    {
     "name": "stdout",
     "output_type": "stream",
     "text": [
      "[[0 0 0 0 0 0 0 0 0 0 0 0 0 0 0 0 0 0 0 0 0 0 0 0 0 0 0 0 0 0 0 0 0 0 0 0\n",
      "  0 0 0 0 0 0 0 0 0 0 0 0 0 0 0 0 0 0 0 0 0 0 0 0 0 0 0 0 0 0 0 0 0 0 0 0\n",
      "  0 0 0 0 0 0 0 0 0 0 0 0 0 0 0 0 0 0 0 0 0 0 0 0 0 0 0 0]\n",
      " [0 0 0 0 0 0 0 0 0 0 0 0 0 0 0 0 0 0 0 0 0 0 0 0 0 0 0 0 0 0 0 0 0 0 0 0\n",
      "  0 0 0 0 0 0 0 0 0 0 0 0 0 0 0 0 0 0 0 0 0 0 0 0 0 0 0 0 0 0 0 0 0 0 0 0\n",
      "  0 0 0 0 0 0 0 0 0 0 0 0 0 0 0 0 0 0 0 0 0 0 0 0 0 0 0 0]\n",
      " [0 0 0 0 0 0 0 0 0 0 0 0 0 0 0 0 0 0 0 0 0 0 0 0 0 0 0 0 0 0 0 0 0 0 0 0\n",
      "  0 0 0 0 0 0 0 0 0 0 0 0 0 0 0 0 0 0 0 0 0 0 0 0 0 0 0 0 0 0 0 0 0 0 0 0\n",
      "  0 0 0 0 0 0 0 0 0 0 0 0 0 0 0 0 0 0 0 0 0 0 0 0 0 0 0 0]]\n"
     ]
    }
   ],
   "source": [
    "#The question 2 \n",
    "new_zero_array=zero_array.reshape(3,100)\n",
    "print(new_zero_array)"
   ]
  },
  {
   "cell_type": "code",
   "execution_count": 121,
   "metadata": {},
   "outputs": [
    {
     "name": "stdout",
     "output_type": "stream",
     "text": [
      "[  1   2   3   4   5   6   7   8   9  10  11  12  13  14  15  16  17  18\n",
      "  19  20  21  22  23  24  25  26  27  28  29  30  31  32  33  34  35  36\n",
      "  37  38  39  40  41  42  43  44  45  46  47  48  49  50  51  52  53  54\n",
      "  55  56  57  58  59  60  61  62  63  64  65  66  67  68  69  70  71  72\n",
      "  73  74  75  76  77  78  79  80  81  82  83  84  85  86  87  88  89  90\n",
      "  91  92  93  94  95  96  97  98  99 100]\n"
     ]
    }
   ],
   "source": [
    "#Exercise 3: Slicing\n",
    "#1 Create a NumPy array of dimension 1 that contains all integers from 1 to 100 ordered.\n",
    "one_array=np.arange(1,101)\n",
    "print(one_array)"
   ]
  },
  {
   "cell_type": "code",
   "execution_count": 122,
   "metadata": {},
   "outputs": [
    {
     "name": "stdout",
     "output_type": "stream",
     "text": [
      "[ 1  3  5  7  9 11 13 15 17 19 21 23 25 27 29 31 33 35 37 39 41 43 45 47\n",
      " 49 51 53 55 57 59 61 63 65 67 69 71 73 75 77 79 81 83 85 87 89 91 93 95\n",
      " 97 99]\n"
     ]
    }
   ],
   "source": [
    "#2 Without using a for loop and using the array created in Q1, \n",
    "# create an array that contain all odd integers.\n",
    "#odd_array=one_array[one_array%2!=0]\n",
    "\n",
    "odd_array=one_array[::2]\n",
    "print(odd_array)"
   ]
  },
  {
   "cell_type": "code",
   "execution_count": 123,
   "metadata": {},
   "outputs": [
    {
     "name": "stdout",
     "output_type": "stream",
     "text": [
      "[100  98  96  94  92  90  88  86  84  82  80  78  76  74  72  70  68  66\n",
      "  64  62  60  58  56  54  52  50  48  46  44  42  40  38  36  34  32  30\n",
      "  28  26  24  22  20  18  16  14  12  10   8   6   4   2]\n"
     ]
    }
   ],
   "source": [
    "#3 Without using a for loop and using the array created in Q1, create an \n",
    "# array that contain all even integers reversed. \n",
    "\n",
    "even_array=one_array[::-2]\n",
    "print(even_array)"
   ]
  },
  {
   "cell_type": "code",
   "execution_count": 124,
   "metadata": {},
   "outputs": [
    {
     "name": "stdout",
     "output_type": "stream",
     "text": [
      "[  1   0   3   4   0   6   7   0   9  10   0  12  13   0  15  16   0  18\n",
      "  19   0  21  22   0  24  25   0  27  28   0  30  31   0  33  34   0  36\n",
      "  37   0  39  40   0  42  43   0  45  46   0  48  49   0  51  52   0  54\n",
      "  55   0  57  58   0  60  61   0  63  64   0  66  67   0  69  70   0  72\n",
      "  73   0  75  76   0  78  79   0  81  82   0  84  85   0  87  88   0  90\n",
      "  91   0  93  94   0  96  97   0  99 100]\n"
     ]
    }
   ],
   "source": [
    "#4 Using array of Q1, set the value of every 3 elements of the list (starting with the second) to 0. \n",
    "\n",
    "new_array=one_array\n",
    "\n",
    "new_array[1::3]=0\n",
    "print(new_array)"
   ]
  },
  {
   "cell_type": "code",
   "execution_count": 125,
   "metadata": {},
   "outputs": [
    {
     "name": "stdout",
     "output_type": "stream",
     "text": [
      "[ -0.18   0.19   0.83  -0.03  -0.65  -0.11   0.22   0.59   0.10  -1.10\n",
      "  -0.26   0.41   0.16   1.04   0.22   0.70  -0.87  -1.39  -0.24  -0.76\n",
      "   1.31  -0.98  -0.36   0.12  -0.35  -0.44  -0.05  -0.43  -1.09  -2.31\n",
      "  -1.86   0.23  -0.90  -0.54  -0.40   0.02   0.18  -0.57  -0.34  -0.00\n",
      "   1.45   1.37   2.69   0.68  -1.06   0.13   0.17   0.09   1.04  -0.14\n",
      "  -0.37   3.20   1.11  -0.26   1.48  -1.57   0.98   1.76   0.35  -0.31\n",
      "  -1.40  -0.65  -1.38  -0.24  -1.18   0.70   0.28  -1.02   1.10   0.24\n",
      "  -0.37  -2.20   1.42   0.22   0.79  -0.22  -0.70  -0.92  -1.47   1.88\n",
      "   1.51   0.12   0.65  -0.71   1.70   1.35   0.53  -0.61  -0.18  -1.29\n",
      "   1.42  -0.18  -0.10  -0.60   1.20   0.96   0.86   1.96  -1.16   0.35]\n"
     ]
    }
   ],
   "source": [
    "#Exercise 4: Random\n",
    "#1Set the seed to 888\n",
    "np.random.seed(888)\n",
    "#2Generate a one-dimensional array of size 100 with a normal distribution\n",
    "one_d=np.random.randn(100)\n",
    "print(one_d)\n"
   ]
  },
  {
   "cell_type": "code",
   "execution_count": 126,
   "metadata": {},
   "outputs": [
    {
     "name": "stdout",
     "output_type": "stream",
     "text": [
      "[[ 9  8  4  6  9  1  3  2]\n",
      " [ 3  9  9  5  4  7  2  8]\n",
      " [ 5  6  9  1  1  6  8  7]\n",
      " [ 7  1  4  1 10  4  3  5]\n",
      " [ 5 10  1 10  7 10  6  1]\n",
      " [ 6  8  7  4  6 10  3  5]\n",
      " [ 4 10  7  9  9 10  9  9]\n",
      " [ 5  3  2 10  8  5  5  3]]\n"
     ]
    }
   ],
   "source": [
    "#3Generate a two-dimensional array of size 8,8 with random integers from 1 to 10 - both included \n",
    "# (same probability for each integer)\n",
    "\n",
    "\n",
    "two_d= np.random.randint(1,11,(8,8))\n",
    "print(two_d)"
   ]
  },
  {
   "cell_type": "code",
   "execution_count": 127,
   "metadata": {},
   "outputs": [
    {
     "name": "stdout",
     "output_type": "stream",
     "text": [
      "[[[ 5  2 13 16 15]\n",
      "  [ 5  5  2 11  3]]\n",
      "\n",
      " [[ 8 13  6  4 17]\n",
      "  [ 2  8  1 13 10]]\n",
      "\n",
      " [[12 17 17 12  1]\n",
      "  [10  8 17  5 11]]\n",
      "\n",
      " [[ 9 14  2 15 13]\n",
      "  [12 14  6 14  2]]]\n"
     ]
    }
   ],
   "source": [
    "#Generate a three-dimensional of size 4,2,5 array with random \n",
    "#integers from 1 to 17 - both included (same probability for each integer)\n",
    "three_d=np.random.randint(1,18,(4,2,5))\n",
    "\n",
    "print(three_d)"
   ]
  },
  {
   "cell_type": "code",
   "execution_count": 128,
   "metadata": {},
   "outputs": [
    {
     "name": "stdout",
     "output_type": "stream",
     "text": [
      "Array:[ 1  2  3  4  5  6  7  8  9 10 11 12 13 14 15 16 17 18 19 20 21 22 23 24\n",
      " 25 26 27 28 29 30 31 32 33 34 35 36 37 38 39 40 41 42 43 44 45 46 47 48\n",
      " 49 50]\n",
      "\n",
      "Array2:[ 51  52  53  54  55  56  57  58  59  60  61  62  63  64  65  66  67  68\n",
      "  69  70  71  72  73  74  75  76  77  78  79  80  81  82  83  84  85  86\n",
      "  87  88  89  90  91  92  93  94  95  96  97  98  99 100]\n",
      "\n",
      "New array:[  1   2   3   4   5   6   7   8   9  10  11  12  13  14  15  16  17  18\n",
      "  19  20  21  22  23  24  25  26  27  28  29  30  31  32  33  34  35  36\n",
      "  37  38  39  40  41  42  43  44  45  46  47  48  49  50  51  52  53  54\n",
      "  55  56  57  58  59  60  61  62  63  64  65  66  67  68  69  70  71  72\n",
      "  73  74  75  76  77  78  79  80  81  82  83  84  85  86  87  88  89  90\n",
      "  91  92  93  94  95  96  97  98  99 100]\n"
     ]
    }
   ],
   "source": [
    "#Exercise 5: Split, concatenate, reshape arrays\n",
    "\n",
    "#1 Generate an array with integers from 1 to 50: array([1,...,50])\n",
    "\n",
    "array=np.arange(1,51)\n",
    "print(f\"Array:{array}\")\n",
    "\n",
    "#2 Generate an array with integers from 51 to 100: array([51,...,100])\n",
    "array2=np.arange(51,101)\n",
    "print(f\"\\nArray2:{array2}\")\n",
    "\n",
    "#3 Using np.concatenate, concatenate the two arrays into: array([1,...,100])\n",
    "\n",
    "new_array=np.concatenate((array, array2),\n",
    "axis=0,\n",
    "out=None,\n",
    "dtype=None,\n",
    ")\n",
    "\n",
    "print(f\"\\nNew array:{new_array}\")"
   ]
  },
  {
   "cell_type": "code",
   "execution_count": 129,
   "metadata": {},
   "outputs": [
    {
     "name": "stdout",
     "output_type": "stream",
     "text": [
      "[[  1   2   3   4   5   6   7   8   9  10]\n",
      " [ 11  12  13  14  15  16  17  18  19  20]\n",
      " [ 21  22  23  24  25  26  27  28  29  30]\n",
      " [ 31  32  33  34  35  36  37  38  39  40]\n",
      " [ 41  42  43  44  45  46  47  48  49  50]\n",
      " [ 51  52  53  54  55  56  57  58  59  60]\n",
      " [ 61  62  63  64  65  66  67  68  69  70]\n",
      " [ 71  72  73  74  75  76  77  78  79  80]\n",
      " [ 81  82  83  84  85  86  87  88  89  90]\n",
      " [ 91  92  93  94  95  96  97  98  99 100]]\n"
     ]
    }
   ],
   "source": [
    "#4 Reshape the previous array into:\n",
    "new_array_sum=new_array.reshape(10,10)\n",
    "print(new_array_sum)\n",
    "\n"
   ]
  },
  {
   "cell_type": "code",
   "execution_count": 130,
   "metadata": {},
   "outputs": [
    {
     "name": "stdout",
     "output_type": "stream",
     "text": [
      "[[1 1 1 1 1 1 1 1 1]\n",
      " [1 0 0 0 0 0 0 0 1]\n",
      " [1 0 1 1 1 1 1 0 1]\n",
      " [1 0 1 0 0 0 1 0 1]\n",
      " [1 0 1 0 1 0 1 0 1]\n",
      " [1 0 1 0 0 0 1 0 1]\n",
      " [1 0 1 1 1 1 1 0 1]\n",
      " [1 0 0 0 0 0 0 0 1]\n",
      " [1 1 1 1 1 1 1 1 1]] int8\n"
     ]
    }
   ],
   "source": [
    "#Exercise 6: Broadcasting and Slicing\n",
    "# 1 Generate a 2-dimensional array of size 9x9, with all elements initialized to 1 and of type int8.\n",
    "\n",
    "array_one=np.ones([9,9], dtype=np.int8)\n",
    "#2 Using slicing, create the following array:\n",
    "array_one=array_one.astype(np.int8)\n",
    "array_one[1:-1,1:-1]=0\n",
    "array_one[2:-2,2:-2]=1\n",
    "array_one[3:-3,3:-3]=0\n",
    "array_one[4:-4,4:-4]=1\n",
    "\n",
    "print(array_one,array_one.dtype)\n",
    "\n"
   ]
  },
  {
   "cell_type": "code",
   "execution_count": 6,
   "metadata": {},
   "outputs": [
    {
     "name": "stdout",
     "output_type": "stream",
     "text": [
      "[1, 1, 1, 1, 1, 1, 1, 1, 1]\n",
      "[1, 1, 1, 1, 1, 1, 1, 1, 1]\n",
      "[1, 1, 1, 1, 1, 1, 1, 1, 1]\n",
      "[1, 1, 1, 1, 1, 1, 1, 1, 1]\n",
      "[1, 1, 1, 1, 1, 1, 1, 1, 1]\n",
      "[1, 1, 1, 1, 1, 1, 1, 1, 1]\n",
      "[1, 1, 1, 1, 1, 1, 1, 1, 1]\n",
      "[1, 1, 1, 1, 1, 1, 1, 1, 1]\n",
      "[1, 1, 1, 1, 1, 1, 1, 1, 1]\n",
      "]\n",
      "[1, 1, 1, 1, 1, 1, 1, 1, 1]\n",
      "[1, 0, 0, 0, 0, 0, 0, 0, 1]\n",
      "[1, 0, 1, 1, 1, 1, 1, 0, 1]\n",
      "[1, 0, 1, 0, 0, 0, 1, 0, 1]\n",
      "[1, 0, 1, 0, 1, 0, 1, 0, 1]\n",
      "[1, 0, 1, 0, 0, 0, 1, 0, 1]\n",
      "[1, 0, 1, 1, 1, 1, 1, 0, 1]\n",
      "[1, 0, 0, 0, 0, 0, 0, 0, 1]\n",
      "[1, 1, 1, 1, 1, 1, 1, 1, 1]\n",
      "]\n",
      "[1, 2, 3]\n",
      "[2, 4, 6]\n",
      "[3, 6, 9]\n",
      "[4, 8, 12]\n",
      "[5, 10, 15]\n",
      "]\n"
     ]
    }
   ],
   "source": [
    "#3 Using broadcasting create an output matrix based on the following two arrays:\n",
    "array_1=np.array([1,2,3,4,5])\n",
    "array_2=np.array([1,2,3])\n",
    "\n",
    "sub_array1=np.full((9,9),array_1[0])\n",
    "\n",
    "sub_array2=np.full((9,9),array_1[0])\n",
    "sub_array2[1:-1,1:-1]=0\n",
    "sub_array2[2:-2,2:-2]=1\n",
    "sub_array2[3:-3,3:-3]=0\n",
    "sub_array2[4:-4,4:-4]=1\n",
    "\n",
    "sub_array3=np.zeros((5,3),dtype=int)\n",
    "\n",
    "sub_array3[0,:]=array_2\n",
    "sub_array3[1,:]=sub_array3[0,:]+array_2\n",
    "sub_array3[2,:]=sub_array3[1,:]+array_2\n",
    "sub_array3[3,:]=sub_array3[2,:]+array_2\n",
    "sub_array3[4,:]=sub_array3[3,:]+array_2\n",
    "\n",
    "\n",
    "array_3=[sub_array1, sub_array2, sub_array3]\n",
    "\n",
    "##print(array_3)\n",
    "\n",
    "for sub_array in array_3:\n",
    "  \n",
    "    for row in sub_array:\n",
    "        print(row.tolist())\n",
    "    print(\"]\")\n",
    "    \n",
    "\n",
    "\n",
    "\n",
    "\n",
    "\n",
    "\n"
   ]
  },
  {
   "cell_type": "code",
   "execution_count": 132,
   "metadata": {},
   "outputs": [
    {
     "name": "stdout",
     "output_type": "stream",
     "text": [
      "[[  7.00   1.00]\n",
      " [   nan   2.00]\n",
      " [   nan   8.00]\n",
      " [  9.00   3.00]\n",
      " [  8.00   9.00]\n",
      " [   nan   2.00]\n",
      " [  8.00   2.00]\n",
      " [   nan   6.00]\n",
      " [  9.00   2.00]\n",
      " [  8.00   5.00]]\n"
     ]
    }
   ],
   "source": [
    "#Exercise 7: NaN\n",
    "\n",
    "generator = np.random.default_rng(123)\n",
    "grades = np.round(generator.uniform(low = 0.0, high = 10.0, size = (10, 2)))\n",
    "grades[[1,2,5,7], [0,0,0,0]] = np.nan\n",
    "print(grades)"
   ]
  },
  {
   "cell_type": "code",
   "execution_count": 133,
   "metadata": {},
   "outputs": [
    {
     "name": "stdout",
     "output_type": "stream",
     "text": [
      "[[  7.00   1.00   7.00]\n",
      " [   nan   2.00   2.00]\n",
      " [   nan   8.00   8.00]\n",
      " [  9.00   3.00   9.00]\n",
      " [  8.00   9.00   8.00]\n",
      " [   nan   2.00   2.00]\n",
      " [  8.00   2.00   8.00]\n",
      " [   nan   6.00   6.00]\n",
      " [  9.00   2.00   9.00]\n",
      " [  8.00   5.00   8.00]]\n"
     ]
    }
   ],
   "source": [
    "\n",
    "#1 Using np.where, create a third column that takes the grade of the first exam if available; otherwise, it uses the grade from the second exam. \n",
    "# Add this column as the third column of the array.\n",
    "new_vector = np.where(np.isnan(grades[:, 0]), grades[:, 1], grades[:, 0])\n",
    "\n",
    "\n",
    "grades_with_third_column = np.hstack((grades, new_vector[:, None]))\n",
    "\n",
    "\n",
    "print(grades_with_third_column)\n",
    "\n",
    "\n",
    "\n",
    "\n"
   ]
  },
  {
   "cell_type": "code",
   "execution_count": 10,
   "metadata": {},
   "outputs": [
    {
     "name": "stdout",
     "output_type": "stream",
     "text": [
      "76752\n"
     ]
    }
   ],
   "source": [
    "# Exercise 8: Wine\n",
    "\n",
    "#Load the data using genfromtxt, specifying the delimiter as ';', and optimize the numpy array size by reducing the data types. \n",
    "#Use np.float32 and verify that the resulting numpy array weighs 76800 bytes.\n",
    "\n",
    "data=np.genfromtxt('winequality-red.txt',delimiter=\";\",skip_header=1,dtype=np.float32)\n",
    "\n",
    "print(data.nbytes)\n",
    "\n",
    "\n"
   ]
  },
  {
   "cell_type": "code",
   "execution_count": 135,
   "metadata": {},
   "outputs": [
    {
     "name": "stdout",
     "output_type": "stream",
     "text": [
      "[[  7.80   0.88   0.00   2.60   0.10  25.00  67.00   1.00   3.20   0.68\n",
      "    9.80   5.00]\n",
      " [  7.90   0.60   0.06   1.60   0.07  15.00  59.00   1.00   3.30   0.46\n",
      "    9.40   5.00]\n",
      " [  7.50   0.50   0.36   6.10   0.07  17.00 102.00   1.00   3.35   0.80\n",
      "   10.50   5.00]]\n"
     ]
    }
   ],
   "source": [
    "\n",
    "#2 Display the 2nd, 7th, and 12th rows as a two-dimensional array. Exclude np.nan values if present.\n",
    "\n",
    "\n",
    "selected_rows =data[[1,6,11],:]\n",
    "\n",
    "print(selected_rows)\n"
   ]
  },
  {
   "cell_type": "code",
   "execution_count": 136,
   "metadata": {},
   "outputs": [
    {
     "name": "stdout",
     "output_type": "stream",
     "text": [
      "If there is any wine in the dataset with an alcohol percentage greater than 20% - False\n",
      "Average alcohol percentage across all wines 10.42298412322998\n"
     ]
    }
   ],
   "source": [
    "#3 Determine if there is any wine in the dataset with an alcohol \n",
    "#4 Calculate the average alcohol percentage across all wines in the dataset. \n",
    "# Exclude np.nan values if present.\n",
    "# percentage greater than 20%. Return True or False.\n",
    "alc=data[::,10]\n",
    "quality=data[::,11]\n",
    "\n",
    "def percentage_greater_20(alc):\n",
    "    for a in alc:\n",
    "        if a>20:\n",
    "           return True\n",
    "    return False\n",
    "\n",
    "print(f\"If there is any wine in the dataset with an alcohol percentage greater than 20% - {percentage_greater_20(alc)}\")\n",
    "print(f\"Average alcohol percentage across all wines {np.mean(alc)}\")\n",
    "\n",
    "\n",
    "\n",
    "\n"
   ]
  },
  {
   "cell_type": "code",
   "execution_count": 137,
   "metadata": {},
   "outputs": [
    {
     "name": "stdout",
     "output_type": "stream",
     "text": [
      "Percentile 25% PH  3.21\n",
      "Percentile 50% PH  3.31\n",
      "Percentile 75% PH  3.4\n",
      "Mean PH  3.3111134\n",
      "Minimum PH  2.74\n",
      "Maximum PH  4.01\n"
     ]
    }
   ],
   "source": [
    "#Compute various statistical measures (minimum, maximum, 25th percentile, \n",
    "# 0th percentile, 75th percentile and the mean for the pH values).\n",
    "ph=data[:,8]\n",
    "\n",
    "min_ph=np.min(ph)\n",
    "max_ph=np.max(ph)\n",
    "percentile_25=np.percentile(ph,25) #Значение, ниже которого находится 25% наблюдений в наборе\n",
    "percentile_50=np.percentile(ph,50) #Значение, ниже которого находится 50% наблюдений в наборе\n",
    "percentile_75=np.percentile(ph,75) #Значение, ниже которого находится 75% наблюдений в наборе\n",
    "mean_PH_values=np.mean(ph)\n",
    "\n",
    "\n",
    "print(\"Percentile 25% PH \", percentile_25)\n",
    "print(\"Percentile 50% PH \", percentile_50)\n",
    "print(\"Percentile 75% PH \", percentile_75)\n",
    "print(\"Mean PH \", mean_PH_values)\n",
    "\n",
    "print(\"Minimum PH \", min_ph)\n",
    "print(\"Maximum PH \", max_ph)"
   ]
  },
  {
   "cell_type": "code",
   "execution_count": 138,
   "metadata": {},
   "outputs": [
    {
     "name": "stdout",
     "output_type": "stream",
     "text": [
      "Quality of wines with low sulfate content: 5.1854305\n",
      "20th percentile for sulfates: 0.54\n"
     ]
    }
   ],
   "source": [
    "\n",
    "#6 Find the average quality score of wines with \n",
    "# the 20% least sulphate content.\n",
    "sulfate=data[:,9]\n",
    "quality=data[:,11]\n",
    "sulf_percentile_20=np.percentile(sulfate,20)\n",
    "\n",
    "low_suf_mask=sulfate<sulf_percentile_20\n",
    "\n",
    "quality_low_sulphates=quality[low_suf_mask]\n",
    "\n",
    "mean_quality_low_sulf=np.mean(quality_low_sulphates)\n",
    "\n",
    "\n",
    "\n",
    "print(\"Quality of wines with low sulfate content:\",mean_quality_low_sulf)\n",
    "\n",
    "print(\"20th percentile for sulfates:\",sulf_percentile_20)\n",
    "\n",
    "\n"
   ]
  },
  {
   "cell_type": "code",
   "execution_count": 139,
   "metadata": {},
   "outputs": [
    {
     "name": "stdout",
     "output_type": "stream",
     "text": [
      "Mean for vines with best quality: [  8.57   0.42   0.39   2.58   0.07  13.28  33.44   1.00   3.27   0.77\n",
      "  12.09   8.00]\n",
      "Mean for vines with worst quality: [  8.36   0.88   0.17   2.64   0.12  11.00  24.90   1.00   3.40   0.57\n",
      "   9.95   3.00]\n"
     ]
    }
   ],
   "source": [
    "#Compute the mean of all variables for wines with \n",
    "# the best quality. Also, do the same for wines with the worst quality.\n",
    "\n",
    "import numpy as np\n",
    "\n",
    "\n",
    "quality = data[:, 11]  \n",
    "max_quality = np.max(quality)\n",
    "min_quality = np.min(quality)\n",
    "\n",
    "# Создаем маски для вин с лучшим и худшим качеством\n",
    "high_quality_mask = quality == max_quality\n",
    "low_quality_mask = quality == min_quality\n",
    "\n",
    "high_quality_wines = data[high_quality_mask]\n",
    "low_quality_wines = data[low_quality_mask]\n",
    "\n",
    "\n",
    "\n",
    "# Вычисляем средние значения для вин с лучшим и худшим качеством\n",
    "high_quality_mean = np.mean(high_quality_wines, axis=0)\n",
    "low_quality_mean = np.mean(low_quality_wines, axis=0)\n",
    "\n",
    "print(\"Mean for vines with best quality:\", high_quality_mean)\n",
    "print(\"Mean for vines with worst quality:\", low_quality_mean)\n",
    "\n",
    "\n",
    "\n"
   ]
  },
  {
   "cell_type": "code",
   "execution_count": 141,
   "metadata": {},
   "outputs": [
    {
     "name": "stdout",
     "output_type": "stream",
     "text": [
      "Оптимальное разбиение:\n",
      "[[0 1 2 3 5]\n",
      " [8 7 9 4 6]]\n"
     ]
    }
   ],
   "source": [
    "import numpy as np\n",
    "import itertools\n",
    "\n",
    "def load_data(file_path):\n",
    "    \"\"\" Загружает матрицу предсказаний разницы очков между командами \"\"\"\n",
    "    def nan_converter(value):\n",
    "        return 0.0 if value == 'nan' else float(value)\n",
    "    \n",
    "    with open(file_path, 'r') as file:\n",
    "        data = np.loadtxt(file, delimiter=',', converters={i: nan_converter for i in range(10)})\n",
    "    return data\n",
    "\n",
    "def find_optimal_pairing(score_matrix):\n",
    "    \"\"\" Находит разбиение на пары, минимизирующее сумму квадратов разниц очков \"\"\"\n",
    "    teams = np.arange(len(score_matrix))\n",
    "    min_score = float('inf')\n",
    "    best_pairing = None\n",
    "\n",
    "    # Генерируем всевозможные перестановки\n",
    "    for perm in itertools.permutations(teams):\n",
    "        pairing = np.array(perm).reshape(2, -1)  # Преобразуем в (2, 5)\n",
    "        score_diffs = score_matrix[pairing[0], pairing[1]]\n",
    "        total_score = np.sum(score_diffs**2)  # Сумма квадратов разниц\n",
    "\n",
    "        if total_score < min_score:\n",
    "            min_score = total_score\n",
    "            best_pairing = pairing\n",
    "\n",
    "    return best_pairing\n",
    "\n",
    "def main():\n",
    "    data = load_data('model_forecasts.txt')\n",
    "    optimal_pairs = find_optimal_pairing(data)\n",
    "    print(\"Оптимальное разбиение:\")\n",
    "    print(optimal_pairs)\n",
    "\n",
    "if __name__ == \"__main__\":\n",
    "    main()\n"
   ]
  }
 ],
 "metadata": {
  "kernelspec": {
   "display_name": "ex00",
   "language": "python",
   "name": "python3"
  },
  "language_info": {
   "codemirror_mode": {
    "name": "ipython",
    "version": 3
   },
   "file_extension": ".py",
   "mimetype": "text/x-python",
   "name": "python",
   "nbconvert_exporter": "python",
   "pygments_lexer": "ipython3",
   "version": "3.12.1"
  }
 },
 "nbformat": 4,
 "nbformat_minor": 4
}
